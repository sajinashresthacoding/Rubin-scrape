{
 "cells": [
  {
   "cell_type": "code",
   "execution_count": 1,
   "id": "3632fe12",
   "metadata": {},
   "outputs": [],
   "source": [
    "##import libraries\n",
    "import pandas as pd\n",
    "import requests\n",
    "from bs4 import BeautifulSoup\n",
    "import time\n",
    "from random import randrange"
   ]
  },
  {
   "cell_type": "code",
   "execution_count": 2,
   "id": "9ecac55a",
   "metadata": {},
   "outputs": [
    {
     "name": "stdout",
     "output_type": "stream",
     "text": [
      "Requirement already satisfied: wget in /Users/sajinashrestha/opt/anaconda3/lib/python3.9/site-packages (3.2)\n",
      "Note: you may need to restart the kernel to use updated packages.\n"
     ]
    }
   ],
   "source": [
    "pip install wget"
   ]
  },
  {
   "cell_type": "code",
   "execution_count": 3,
   "id": "d32bbbe5",
   "metadata": {},
   "outputs": [],
   "source": [
    "import wget"
   ]
  },
  {
   "cell_type": "code",
   "execution_count": 4,
   "id": "b15be5cc",
   "metadata": {},
   "outputs": [],
   "source": [
    "def mk_request(url):\n",
    "    '''\n",
    "    Takes the url and gives you status and returns responses\n",
    "    '''\n",
    "    response = requests.get(url)\n",
    "    if 200 <= response.status_code < 400:\n",
    "        return response\n",
    "    else:\n",
    "        print(f\"request returned {response.status_code}error\")"
   ]
  },
  {
   "cell_type": "code",
   "execution_count": 5,
   "id": "b7a723fa",
   "metadata": {},
   "outputs": [],
   "source": [
    "## test the url\n",
    "\n",
    "myurl = \"https://collection.rubinmuseum.org/search/tibet\""
   ]
  },
  {
   "cell_type": "code",
   "execution_count": null,
   "id": "e41d2aeb",
   "metadata": {},
   "outputs": [],
   "source": []
  }
 ],
 "metadata": {
  "kernelspec": {
   "display_name": "Python 3 (ipykernel)",
   "language": "python",
   "name": "python3"
  },
  "language_info": {
   "codemirror_mode": {
    "name": "ipython",
    "version": 3
   },
   "file_extension": ".py",
   "mimetype": "text/x-python",
   "name": "python",
   "nbconvert_exporter": "python",
   "pygments_lexer": "ipython3",
   "version": "3.9.13"
  }
 },
 "nbformat": 4,
 "nbformat_minor": 5
}
